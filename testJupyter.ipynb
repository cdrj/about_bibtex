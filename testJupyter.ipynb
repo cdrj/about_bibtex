{
 "cells": [
  {
   "cell_type": "code",
   "execution_count": 2,
   "outputs": [
    {
     "name": "stdout",
     "output_type": "stream",
     "text": [
      "共有 35 位作者,正在查找第 1 位作者 Jinde Cao \n",
      "找到结果数量： 1\n",
      "网页上的名字是： Cao, Jinde\n",
      "名单上的名字是： Jinde Cao\n",
      "==============\n",
      "共有 35 位作者,正在查找第 2 位作者 Haibo He \n",
      "找到结果数量： 1\n",
      "网页上的名字是： He, Haibo\n",
      "名单上的名字是： Haibo He\n",
      "==============\n",
      "共有 35 位作者,正在查找第 3 位作者 Ljiljana Trajkovic \n",
      "找到结果数量： 1\n",
      "网页上的名字是： Trajkovic, Ljiljana\n",
      "名单上的名字是： Ljiljana Trajkovic\n",
      "==============\n",
      "共有 35 位作者,正在查找第 4 位作者 Hongbo Bo \n",
      "找到结果数量： 1\n",
      "网页上的名字是： Sun, Hong-bo\n",
      "名单上的名字是： Hongbo Bo\n",
      "==============\n",
      "共有 35 位作者,正在查找第 5 位作者 Chengyi Xia \n",
      "找到结果数量： 2\n",
      "网页上的名字是： Xia, Pengfei\n",
      "名单上的名字是： Chengyi Xia\n",
      "==============\n",
      "共有 35 位作者,正在查找第 6 位作者 Tingwen Huang \n",
      "找到结果数量： 1\n",
      "网页上的名字是： Huang, Tingwen\n",
      "名单上的名字是： Tingwen Huang\n",
      "==============\n",
      "共有 35 位作者,正在查找第 7 位作者 Isaac Klickstein \n",
      "找到结果数量： 2\n",
      "网页上的名字是： Barpal, Isaac\n",
      "名单上的名字是： Isaac Klickstein\n",
      "==============\n",
      "共有 35 位作者,正在查找第 8 位作者 Ronnie Concepcion \n",
      "找到结果数量： 2\n",
      "网页上的名字是： Chu, Ronnie\n",
      "名单上的名字是： Ronnie Concepcion\n",
      "==============\n",
      "共有 35 位作者,正在查找第 9 位作者 Ryan Rhay Vicerra \n",
      "找到结果数量： 2\n",
      "网页上的名字是： Ryan, Carl\n",
      "名单上的名字是： Ryan Rhay Vicerra\n",
      "==============\n",
      "共有 35 位作者,正在查找第 10 位作者 Jianlong Qiu \n",
      "找到结果数量： 2\n",
      "网页上的名字是： Qiu, Robert Caiming\n",
      "名单上的名字是： Jianlong Qiu\n",
      "==============\n",
      "共有 35 位作者,正在查找第 11 位作者 Hassan Dehghani Aghbolagh \n",
      "找到结果数量： 2\n",
      "网页上的名字是： Khalil, Hassan\n",
      "名单上的名字是： Hassan Dehghani Aghbolagh\n",
      "==============\n",
      "共有 35 位作者,正在查找第 12 位作者 Wei Ren \n",
      "找到结果数量： 1\n",
      "网页上的名字是： Ren, Wei\n",
      "名单上的名字是： Wei Ren\n",
      "==============\n",
      "共有 35 位作者,正在查找第 13 位作者 Hui Liu \n",
      "找到结果数量： 1\n",
      "网页上的名字是： Liu, Yun-hui\n",
      "名单上的名字是： Hui Liu\n",
      "==============\n",
      "共有 35 位作者,正在查找第 14 位作者 Xinghuo Yu \n",
      "找到结果数量： 1\n",
      "网页上的名字是： Yu, Xinghuo\n",
      "名单上的名字是： Xinghuo Yu\n",
      "==============\n",
      "共有 35 位作者,正在查找第 15 位作者 Ning Cai \n",
      "找到结果数量： 1\n",
      "网页上的名字是： Cai, Ning\n",
      "名单上的名字是： Ning Cai\n",
      "==============\n",
      "共有 35 位作者,正在查找第 16 位作者 Li Wang \n",
      "找到结果数量： 2\n",
      "网页上的名字是： Wang, Li-chun\n",
      "名单上的名字是： Li Wang\n",
      "==============\n",
      "共有 35 位作者,正在查找第 17 位作者 Zhiqiang Zuo \n",
      "找到结果数量： 1\n",
      "网页上的名字是： Ye, Zuo-guang\n",
      "名单上的名字是： Zhiqiang Zuo\n",
      "==============\n",
      "共有 35 位作者,正在查找第 18 位作者 Tianjiao Yin \n",
      "找到结果数量： 2\n",
      "网页上的名字是： Yin, Wen-yan\n",
      "名单上的名字是： Tianjiao Yin\n",
      "==============\n",
      "共有 35 位作者,正在查找第 19 位作者 Jinhu Lu \n",
      "找到结果数量： 1\n",
      "网页上的名字是： Lu, Jinhu\n",
      "名单上的名字是： Jinhu Lu\n",
      "==============\n",
      "共有 35 位作者,正在查找第 20 位作者 Chaowen Xiong \n",
      "找到结果数量： 1\n",
      "网页上的名字是： Xiong, Zixiang\n",
      "名单上的名字是： Chaowen Xiong\n",
      "==============\n",
      "共有 35 位作者,正在查找第 21 位作者 Xiaofeng Liao \n",
      "找到结果数量： 1\n",
      "网页上的名字是： Liao, Xiaofeng\n",
      "名单上的名字是： Xiaofeng Liao\n",
      "==============\n",
      "共有 35 位作者,正在查找第 22 位作者 Yingxue Du \n",
      "找到结果数量： 1\n",
      "网页上的名字是： Du, David\n",
      "名单上的名字是： Yingxue Du\n",
      "==============\n",
      "共有 35 位作者,正在查找第 23 位作者 Francesco Sorrentino \n",
      "找到结果数量： 2\n",
      "网页上的名字是： Bullo, Francesco\n",
      "名单上的名字是： Francesco Sorrentino\n",
      "==============\n",
      "共有 35 位作者,正在查找第 24 位作者 Jun Huang \n",
      "找到结果数量： 1\n",
      "网页上的名字是： Huang, Tony Jun\n",
      "名单上的名字是： Jun Huang\n",
      "==============\n",
      "共有 35 位作者,正在查找第 25 位作者 Wei Zhang \n",
      "找到结果数量： 1\n",
      "网页上的名字是： Zhang, Wei-bin\n",
      "名单上的名字是： Wei Zhang\n",
      "==============\n",
      "共有 35 位作者,正在查找第 26 位作者 Mi Lv \n",
      "找到结果数量： 2\n",
      "网页上的名字是： Tsai, Mi-ching\n",
      "名单上的名字是： Mi Lv\n",
      "==============\n",
      "共有 35 位作者,正在查找第 27 位作者 Xingcheng Pu \n",
      "找到结果数量： 1\n",
      "网页上的名字是： Pu, Calton\n",
      "名单上的名字是： Xingcheng Pu\n",
      "==============\n",
      "共有 35 位作者,正在查找第 28 位作者 Jinchen Ji \n",
      "找到结果数量： 1\n",
      "网页上的名字是： Wu, Ji\n",
      "名单上的名字是： Jinchen Ji\n",
      "==============\n",
      "共有 35 位作者,正在查找第 29 位作者 Mohsen Zamani \n",
      "找到结果数量： 1\n",
      "网页上的名字是： Mohsen, Amr\n",
      "名单上的名字是： Mohsen Zamani\n",
      "==============\n",
      "共有 35 位作者,正在查找第 30 位作者 Xing Chu \n",
      "找到结果数量： 1\n",
      "网页上的名字是： Chu, Qing-xin\n",
      "名单上的名字是： Xing Chu\n",
      "==============\n",
      "共有 35 位作者,正在查找第 31 位作者 Jianfeng Lv \n",
      "找到结果数量： 1\n",
      "网页上的名字是： Gao, Jianfeng\n",
      "名单上的名字是： Jianfeng Lv\n",
      "==============\n",
      "共有 35 位作者,正在查找第 32 位作者 Guanrong Chen \n",
      "找到结果数量： 1\n",
      "网页上的名字是： Chen, Guanrong\n",
      "名单上的名字是： Guanrong Chen\n",
      "==============\n",
      "共有 35 位作者,正在查找第 33 位作者 Juan Wang \n",
      "找到结果数量： 1\n",
      "网页上的名字是： Wang, Jian-ping\n",
      "名单上的名字是： Juan Wang\n",
      "==============\n",
      "共有 35 位作者,正在查找第 34 位作者 Lianghao Ji \n",
      "找到结果数量： 1\n",
      "网页上的名字是： Wu, Ji\n",
      "名单上的名字是： Lianghao Ji\n",
      "==============\n",
      "共有 35 位作者,正在查找第 35 位作者 Guang Chen \n",
      "找到结果数量： 1\n",
      "网页上的名字是： Chen, Yen-kuang\n",
      "名单上的名字是： Guang Chen\n",
      "==============\n"
     ]
    }
   ],
   "source": [
    "import os\n",
    "import random\n",
    "import bibtexparser\n",
    "import json\n",
    "from bs4 import BeautifulSoup\n",
    "import requests\n",
    "import time\n",
    "\n",
    "\n",
    "def recheck_fellow_by_name(names):\n",
    "    proxies = {\n",
    "        'https': 'http://10.0.0.66:12333',\n",
    "        'http': 'http://10.0.0.66:12333'\n",
    "    }\n",
    "    results = {}\n",
    "    num_of_authors = len(names)\n",
    "    index = 1\n",
    "\n",
    "    for name in names:\n",
    "        s = requests.session()\n",
    "        s.keep_alive = False\n",
    "        requests.DEFAULT_RETRIES = 5\n",
    "\n",
    "        print(\"共有 {} 位作者,正在查找第 {} 位作者 {} \".format(num_of_authors, index, name))\n",
    "        index += 1\n",
    "\n",
    "        kv = {'keyword': name}\n",
    "\n",
    "        # headers = {\n",
    "        #     'User-Agent':\n",
    "        #         'Mozilla/5.0 (Windows NT 10.0; Win64; x64) AppleWebKit/537.36 (KHTML, like Gecko) Chrome/88.0.4324.190 Safari/537.36'}\n",
    "\n",
    "        head = {\n",
    "            'authority': 'search.jd.com',\n",
    "            'method': 'GET',\n",
    "            'path': '/Search?keyword=%E7%94%B5%E8%84%91&enc=utf-8&pvid=d4a3fce8a4e8424ba3a11de05bbdd443',\n",
    "            'scheme': 'https',\n",
    "            'referer': 'https://search.jd.com/Search?keyword=%E7%94%B5%E8%84%91&enc=utf-8&wq=%E7%94%B5%E8%84%91&pvid=097a8dead9704f0d85ba224fce56c8c1',\n",
    "            'user-agent': 'Mozilla/5.0 (Windows NT 10.0; Win64; x64) AppleWebKit/537.36 (KHTML, like Gecko) Chrome/79.0.3945.88 Safari/537.36',\n",
    "            'x-requested-with': 'XMLHttpRequest',\n",
    "            'Cookie': 'areaId=22; ipLoc-djd=22-1930-50947-0; PCSYCityID=CN_510000_510100_510107; shshshfpa=3c696b4b-4db5-8688-b7bf-53d8ef2639d1-1577169256; shshshfpb=3c696b4b-4db5-8688-b7bf-53d8ef2639d1-1577169256; xtest=7978.cf6b6759; unpl=V2_ZzNtbUVVRUVxDREGL0taBWJWGlkSVEcRIghGXSkdW1ViAEdbclRCFX0URldnGlgUZwAZWEBcQxdFCEdkeBBVAWMDE1VGZxBFLV0CFSNGF1wjU00zQwBBQHcJFF0uSgwDYgcaDhFTQEJ2XBVQL0oMDDdRFAhyZ0AVRQhHZHsaWgZvBRRVQFZzJXI4dmR9GFgHYAsiXHJWc1chVERUfR1dByoDEVtBX0UTfQpHZHopXw%3d%3d; __jdv=76161171|baidu-pinzhuan|t_288551095_baidupinzhuan|cpc|0f3d30c8dba7459bb52f2eb5eba8ac7d_0_637a54fcec714d95a255f118c56a42d7|1577248990400; qrsc=3; __jdu=1272977930; user-key=66522f02-f902-4764-8693-0eefdd7745bd; cn=0; __jda=122270672.1272977930.1577169251.1577257496.1577326776.5; __jdb=122270672.4.1272977930|5.1577326776; __jdc=122270672; shshshfp=7324c276d86c51251dbc81623c455052; shshshsID=febb1869dc62c6b7318e4bec8bb1e058_4_1577326815219; rkv=V0700; 3AB9D23F7A4B3C9B=WNBES7CO6JKYVHCHPD7S6VLV7PWVDFBTPTRJ4M6VCTBXXQAQWP2OXRZ6O4TNGNQCNETV57IOKIGZSUWHGMX32TMH2Y'\n",
    "\n",
    "        }\n",
    "        url = \"http://services27.ieee.org/fellowsdirectory/keywordsearch.html\"\n",
    "\n",
    "        r = requests.get(url, params=kv, proxies=proxies, headers=head)\n",
    "        page_text = r.text\n",
    "\n",
    "        soup = BeautifulSoup(page_text, 'lxml')\n",
    "        # print(soup.find(id=\"mobile-result-list\"))\n",
    "        result = soup.find(class_=\"returned_line col-xs-12 visible-xs\")\n",
    "\n",
    "        if (result):\n",
    "            result_num = int(result.p.i.b.contents[0])\n",
    "            name_on_page = soup.find(class_=\"loc_n_name col-xs-12\").p.a.span.contents[0]\n",
    "            temp = \"\"\n",
    "            first_name_on_page=temp.join(name_on_page)\n",
    "            temp=first_name_on_page.split(\",\")\n",
    "            temp[0],temp[1]=temp[1],temp[0]\n",
    "            print(\"找到结果数量：\", result_num)\n",
    "            print(\"网页上的名字是：\",first_name_on_page)\n",
    "            print(\"名单上的名字是：\",name)\n",
    "            if (result_num > 0 and result_num < 3):\n",
    "                results[name] = [first_name_on_page,result_num]\n",
    "            time.sleep(random.random() * 3)\n",
    "        else:\n",
    "            print(\"找不到结果\")\n",
    "        print(\"==============\")\n",
    "\n",
    "    return results\n",
    "\n",
    "\n",
    "with open('59cand.json', 'r') as f:\n",
    "    data = json.load(f)\n",
    "\n",
    "rechecked=recheck_fellow_by_name(data.keys())"
   ],
   "metadata": {
    "collapsed": false,
    "pycharm": {
     "name": "#%%\n"
    }
   }
  },
  {
   "cell_type": "code",
   "execution_count": 7,
   "outputs": [],
   "source": [
    "# rechecked\n",
    "rechecked_order=sorted(rechecked.items(),key=lambda x:x[1][1],reverse=False)\n",
    "\n",
    "\n",
    "with open('rechecked_order.json', 'w') as f:\n",
    "    json.dump(rechecked_order, f)"
   ],
   "metadata": {
    "collapsed": false,
    "pycharm": {
     "name": "#%%\n"
    }
   }
  },
  {
   "cell_type": "code",
   "execution_count": 35,
   "outputs": [
    {
     "name": "stdout",
     "output_type": "stream",
     "text": [
      "1 位作者名字相同!\n",
      "Jinde Cao\n",
      "页面上名字： Jinde Cao\n",
      "1\n",
      "============\n",
      "2 位作者名字相同!\n",
      "Haibo He\n",
      "页面上名字： Haibo He\n",
      "1\n",
      "============\n",
      "3 位作者名字相同!\n",
      "Ljiljana Trajkovic\n",
      "页面上名字： Ljiljana Trajkovic\n",
      "1\n",
      "============\n",
      "Hongbo Bo\n",
      "页面上名字： Hongbo Sun\n",
      "1\n",
      "============\n",
      "4 位作者名字相同!\n",
      "Tingwen Huang\n",
      "页面上名字： Tingwen Huang\n",
      "1\n",
      "============\n",
      "5 位作者名字相同!\n",
      "Wei Ren\n",
      "页面上名字： Wei Ren\n",
      "1\n",
      "============\n",
      "Hui Liu\n",
      "页面上名字： Yunhui Liu\n",
      "1\n",
      "============\n",
      "6 位作者名字相同!\n",
      "Xinghuo Yu\n",
      "页面上名字： Xinghuo Yu\n",
      "1\n",
      "============\n",
      "7 位作者名字相同!\n",
      "Ning Cai\n",
      "页面上名字： Ning Cai\n",
      "1\n",
      "============\n",
      "Zhiqiang Zuo\n",
      "页面上名字： Zuoguang Ye\n",
      "1\n",
      "============\n",
      "8 位作者名字相同!\n",
      "Jinhu Lu\n",
      "页面上名字： Jinhu Lu\n",
      "1\n",
      "============\n",
      "Chaowen Xiong\n",
      "页面上名字： Zixiang Xiong\n",
      "1\n",
      "============\n",
      "9 位作者名字相同!\n",
      "Xiaofeng Liao\n",
      "页面上名字： Xiaofeng Liao\n",
      "1\n",
      "============\n",
      "Yingxue Du\n",
      "页面上名字： David Du\n",
      "1\n",
      "============\n",
      "Jun Huang\n",
      "页面上名字： Tony Jun Huang\n",
      "1\n",
      "============\n",
      "Wei Zhang\n",
      "页面上名字： Weibin Zhang\n",
      "1\n",
      "============\n",
      "Xingcheng Pu\n",
      "页面上名字： Calton Pu\n",
      "1\n",
      "============\n",
      "Jinchen Ji\n",
      "页面上名字： Ji Wu\n",
      "1\n",
      "============\n",
      "Mohsen Zamani\n",
      "页面上名字： Amr Mohsen\n",
      "1\n",
      "============\n",
      "Xing Chu\n",
      "页面上名字： Qingxin Chu\n",
      "1\n",
      "============\n",
      "Jianfeng Lv\n",
      "页面上名字： Jianfeng Gao\n",
      "1\n",
      "============\n",
      "10 位作者名字相同!\n",
      "Guanrong Chen\n",
      "页面上名字： Guanrong Chen\n",
      "1\n",
      "============\n",
      "Juan Wang\n",
      "页面上名字： Jianping Wang\n",
      "1\n",
      "============\n",
      "Lianghao Ji\n",
      "页面上名字： Ji Wu\n",
      "1\n",
      "============\n",
      "Guang Chen\n",
      "页面上名字： Yenkuang Chen\n",
      "1\n",
      "============\n",
      "共有10 位作者应该是fellow!他们的名字是：\n",
      "Jinde Cao\n",
      "Haibo He\n",
      "Ljiljana Trajkovic\n",
      "Tingwen Huang\n",
      "Wei Ren\n",
      "Xinghuo Yu\n",
      "Ning Cai\n",
      "Jinhu Lu\n",
      "Xiaofeng Liao\n",
      "Guanrong Chen\n"
     ]
    }
   ],
   "source": [
    "import json\n",
    "with open('rechecked_order.json', 'r') as f:\n",
    "    data = json.load(f)\n",
    "\n",
    "results=[]\n",
    "sum=0\n",
    "for value in data:\n",
    "    if value[1][1]==2:\n",
    "        continue\n",
    "\n",
    "    temp=value[1][0].split(\",\")\n",
    "    temp[0],temp[1]=temp[1],temp[0]\n",
    "    name_on_page=(temp[0].strip()+\" \"+temp[1].strip()).replace(\"-\",\"\")\n",
    "    old_name=value[0]\n",
    "    if name_on_page==old_name:\n",
    "        sum+=1\n",
    "        print(\"{} 位作者名字相同!\".format(sum))\n",
    "        results.append(name_on_page)\n",
    "\n",
    "\n",
    "    print(old_name)\n",
    "    print(\"页面上名字：\",name_on_page)\n",
    "    print(value[1][1])\n",
    "    print(\"============\")\n",
    "\n",
    "print(\"共有{} 位作者应该是fellow!他们的名字是：\".format(sum))\n",
    "for fellow in results:\n",
    "    print(fellow)"
   ],
   "metadata": {
    "collapsed": false,
    "pycharm": {
     "name": "#%%\n"
    }
   }
  },
  {
   "cell_type": "code",
   "execution_count": 27,
   "outputs": [
    {
     "data": {
      "text/plain": "'{IEEE} Transactions on Circuits and Systems {II}: Express Briefs'"
     },
     "execution_count": 27,
     "metadata": {},
     "output_type": "execute_result"
    }
   ],
   "source": [
    "import re\n",
    "str=\"{IEEE} Transactions on Circuits and Systems {II}: Express Briefs\"\n",
    "sub_str = re.sub(u\"([^\\u4e00-\\u9fa5\\u0030-\\u0039\\u0041-\\u005a\\u0061-\\u007a])\",\"\",str).lower()\n",
    "str"
   ],
   "metadata": {
    "collapsed": false,
    "pycharm": {
     "name": "#%%\n"
    }
   }
  },
  {
   "cell_type": "code",
   "execution_count": 34,
   "outputs": [
    {
     "data": {
      "text/plain": "True"
     },
     "execution_count": 34,
     "metadata": {},
     "output_type": "execute_result"
    }
   ],
   "source": [
    "dict={\"Title\":\"Consensus on SO(3) with piecewise-continuous sinusoids\"}\n",
    "dict.get(\"title\")==None"
   ],
   "metadata": {
    "collapsed": false,
    "pycharm": {
     "name": "#%%\n"
    }
   }
  },
  {
   "cell_type": "code",
   "execution_count": 41,
   "outputs": [
    {
     "data": {
      "text/plain": "{'unique-id': '{ISI:000598166900030}',\n 'eissn': '{1873-2836}',\n 'issn': '{0005-1098}',\n 'article-number': '{109262}',\n 'doi': '{10.1016/j.automatica.2020.109262}',\n 'month': '{DEC}',\n 'volume': '{122}',\n 'year': '{2020}',\n 'journal': '{AUTOMATICA}',\n 'title': '{Consensus on SO(3) with piecewise-continuous sinusoids}',\n 'author': 'Chavan, Roshan A. and Wang, Shaoqian and Seigler, T. Michael and Hoagg,\\nJesse B.',\n 'ENTRYTYPE': 'article',\n 'ID': 'ISI:000598166900030'}"
     },
     "execution_count": 41,
     "metadata": {},
     "output_type": "execute_result"
    }
   ],
   "source": [
    "import random\n",
    "import bibtexparser\n",
    "import json\n",
    "from bs4 import BeautifulSoup\n",
    "import requests\n",
    "import time\n",
    "\n",
    "\n",
    "with open(\"39cites.bib\",encoding='utf8') as bibtex_file:\n",
    "    bib_database = bibtexparser.load(bibtex_file)\n",
    "\n",
    "cites = bib_database.entries\n",
    "\n",
    "cites[0]"
   ],
   "metadata": {
    "collapsed": false,
    "pycharm": {
     "name": "#%%\n"
    }
   }
  },
  {
   "cell_type": "code",
   "execution_count": 50,
   "outputs": [
    {
     "name": "stdout",
     "output_type": "stream",
     "text": [
      "Thu Feb 25 20:15:30 2021\n",
      "20210225201530\n"
     ]
    },
    {
     "data": {
      "text/plain": "str"
     },
     "execution_count": 50,
     "metadata": {},
     "output_type": "execute_result"
    }
   ],
   "source": [
    "print (time.strftime(\"%a %b %d %H:%M:%S %Y\", time.localtime()))\n",
    "print (time.strftime(\"%Y%m%d%H%M%S\", time.localtime()))\n",
    "time=time.strftime(\"%Y%m%d%H%M%S\", time.localtime())\n",
    "type(time)"
   ],
   "metadata": {
    "collapsed": false,
    "pycharm": {
     "name": "#%%\n"
    }
   }
  },
  {
   "cell_type": "code",
   "execution_count": 52,
   "outputs": [],
   "source": [
    "import os\n",
    "fellow_path=\".\\\\fellows\\\\\"\n",
    "if os.path.exists(fellow_path)==False:\n",
    "    os.mkdir(fellow_path)"
   ],
   "metadata": {
    "collapsed": false,
    "pycharm": {
     "name": "#%%\n"
    }
   }
  },
  {
   "cell_type": "code",
   "execution_count": 2,
   "outputs": [
    {
     "name": "stderr",
     "output_type": "stream",
     "text": [
      "2021-02-26 15:37:17 INFO     正在baiduFlac中搜索 ——> 说好不哭...\n",
      "2021-02-26 15:37:17 INFO     正在kugou中搜索 ——> 说好不哭...\n",
      "2021-02-26 15:37:17 INFO     正在kuwo中搜索 ——> 说好不哭...\n",
      "2021-02-26 15:37:17 INFO     正在qq中搜索 ——> 说好不哭...\n",
      "2021-02-26 15:37:17 INFO     正在qianqian中搜索 ——> 说好不哭...\n",
      "2021-02-26 15:37:17 INFO     正在netease中搜索 ——> 说好不哭...\n",
      "2021-02-26 15:37:17 INFO     正在migu中搜索 ——> 说好不哭...\n",
      "2021-02-26 15:37:17 INFO     正在xiami中搜索 ——> 说好不哭...\n",
      "2021-02-26 15:37:17 INFO     正在joox中搜索 ——> 说好不哭...\n",
      "2021-02-26 15:37:17 INFO     正在yiting中搜索 ——> 说好不哭...\n",
      "2021-02-26 15:37:19 WARNING  无法在xiami中搜索 ——> 说好不哭...\n",
      "2021-02-26 15:37:21 WARNING  无法在kuwo中搜索 ——> 说好不哭...\n",
      "2021-02-26 15:37:38 WARNING  无法在baiduFlac中搜索 ——> 说好不哭...\n",
      "2021-02-26 15:37:38 INFO     正在从migu下载 ——> migu_说好不哭 (With 五月天阿信)...\n",
      "2021-02-26 15:37:39 INFO     成功从migu下载到了 ——> migu_说好不哭 (With 五月天阿信)...\n",
      "2021-02-26 15:37:39 INFO     正在从migu下载 ——> migu_说好不哭(电视剧《两生花》插曲)...\n",
      "2021-02-26 15:37:40 INFO     成功从migu下载到了 ——> migu_说好不哭(电视剧《两生花》插曲)...\n",
      "2021-02-26 15:37:40 INFO     正在从migu下载 ——> migu_说好不哭...\n",
      "2021-02-26 15:37:41 INFO     成功从migu下载到了 ——> migu_说好不哭...\n",
      "2021-02-26 15:37:41 INFO     正在从migu下载 ——> migu_说好不哭...\n",
      "2021-02-26 15:37:41 INFO     成功从migu下载到了 ——> migu_说好不哭...\n",
      "2021-02-26 15:37:41 INFO     正在从migu下载 ——> migu_说好不哭...\n",
      "2021-02-26 15:37:42 INFO     成功从migu下载到了 ——> migu_说好不哭...\n",
      "2021-02-26 15:37:42 INFO     正在从kugou下载 ——> kugou_说好不哭(with 五月天阿信)...\n",
      "2021-02-26 15:37:43 INFO     成功从kugou下载到了 ——> kugou_说好不哭(with 五月天阿信)...\n",
      "2021-02-26 15:37:43 INFO     正在从kugou下载 ——> kugou_说好不哭 (女声版)...\n",
      "2021-02-26 15:37:43 INFO     成功从kugou下载到了 ——> kugou_说好不哭 (女声版)...\n",
      "2021-02-26 15:37:43 INFO     正在从kugou下载 ——> kugou_说好不哭 (女烟嗓)...\n",
      "2021-02-26 15:37:44 INFO     成功从kugou下载到了 ——> kugou_说好不哭 (女烟嗓)...\n",
      "2021-02-26 15:37:44 INFO     正在从kugou下载 ——> kugou_说好不哭 (片段)...\n",
      "2021-02-26 15:37:44 INFO     成功从kugou下载到了 ——> kugou_说好不哭 (片段)...\n",
      "2021-02-26 15:37:44 INFO     正在从kugou下载 ——> kugou_说好不哭 (片段)...\n",
      "2021-02-26 15:37:44 INFO     成功从kugou下载到了 ——> kugou_说好不哭 (片段)...\n",
      "2021-02-26 15:37:44 INFO     正在从qianqian下载 ——> qianqian_说好不哭...\n",
      "2021-02-26 15:37:45 INFO     成功从qianqian下载到了 ——> qianqian_说好不哭...\n",
      "2021-02-26 15:37:45 INFO     正在从qianqian下载 ——> qianqian_说好不哭...\n",
      "2021-02-26 15:37:45 INFO     成功从qianqian下载到了 ——> qianqian_说好不哭...\n",
      "2021-02-26 15:37:45 INFO     正在从qianqian下载 ——> qianqian_明明说好不哭...\n",
      "2021-02-26 15:37:45 INFO     成功从qianqian下载到了 ——> qianqian_明明说好不哭...\n",
      "2021-02-26 15:37:45 INFO     正在从qianqian下载 ——> qianqian_明明说好不哭...\n",
      "2021-02-26 15:37:46 INFO     成功从qianqian下载到了 ——> qianqian_明明说好不哭...\n",
      "2021-02-26 15:37:46 INFO     正在从qianqian下载 ——> qianqian_说好不许哭...\n",
      "2021-02-26 15:37:47 INFO     成功从qianqian下载到了 ——> qianqian_说好不许哭...\n",
      "2021-02-26 15:37:47 INFO     正在从netease下载 ——> netease_说好不哭...\n",
      "2021-02-26 15:37:47 INFO     成功从netease下载到了 ——> netease_说好不哭...\n",
      "2021-02-26 15:37:47 INFO     正在从netease下载 ——> netease_说好不哭...\n",
      "2021-02-26 15:37:47 INFO     成功从netease下载到了 ——> netease_说好不哭...\n",
      "2021-02-26 15:37:47 INFO     正在从netease下载 ——> netease_说好不哭...\n",
      "2021-02-26 15:37:48 INFO     成功从netease下载到了 ——> netease_说好不哭...\n",
      "2021-02-26 15:37:48 INFO     正在从netease下载 ——> netease_说好不哭（维汉双语版）...\n",
      "2021-02-26 15:37:48 INFO     成功从netease下载到了 ——> netease_说好不哭（维汉双语版）...\n",
      "2021-02-26 15:37:48 INFO     正在从netease下载 ——> netease_说好不哭...\n",
      "2021-02-26 15:37:51 INFO     成功从netease下载到了 ——> netease_说好不哭...\n",
      "2021-02-26 15:37:51 INFO     正在从qq下载 ——> qq_说好不哭（with 五月天阿信）...\n",
      "2021-02-26 15:37:51 INFO     无法从qq下载 ——> qq_说好不哭（with 五月天阿信）...\n",
      "2021-02-26 15:37:51 INFO     正在从qq下载 ——> qq_说好不哭 (原唱 周杰伦)...\n",
      "2021-02-26 15:37:51 INFO     成功从qq下载到了 ——> qq_说好不哭 (原唱 周杰伦)...\n",
      "2021-02-26 15:37:51 INFO     正在从qq下载 ——> qq_周杰伦X五月天《说好不哭》live版（周五合体现场版） (节目)...\n",
      "2021-02-26 15:37:51 INFO     成功从qq下载到了 ——> qq_周杰伦X五月天《说好不哭》live版（周五合体现场版） (节目)...\n",
      "2021-02-26 15:37:51 INFO     正在从qq下载 ——> qq_周杰伦 X 五月天《说好不哭》官方live版 (节目)...\n",
      "2021-02-26 15:37:52 INFO     成功从qq下载到了 ——> qq_周杰伦 X 五月天《说好不哭》官方live版 (节目)...\n",
      "2021-02-26 15:37:52 INFO     正在从qq下载 ——> qq_说好不哭 (原唱周杰伦)...\n",
      "2021-02-26 15:37:52 INFO     成功从qq下载到了 ——> qq_说好不哭 (原唱周杰伦)...\n",
      "2021-02-26 15:37:52 INFO     正在从joox下载 ——> joox_説好不哭...\n",
      "2021-02-26 15:37:54 INFO     成功从joox下载到了 ——> joox_説好不哭...\n",
      "2021-02-26 15:37:54 INFO     正在从joox下载 ——> joox_説好不哭...\n",
      "2021-02-26 15:39:05 INFO     成功从joox下载到了 ——> joox_説好不哭...\n",
      "2021-02-26 15:39:05 INFO     正在从joox下载 ——> joox_説好不哭...\n",
      "2021-02-26 15:39:06 INFO     成功从joox下载到了 ——> joox_説好不哭...\n",
      "2021-02-26 15:39:06 INFO     正在从joox下载 ——> joox_説好了我不哭...\n",
      "2021-02-26 15:39:46 INFO     成功从joox下载到了 ——> joox_説好了我不哭...\n"
     ]
    }
   ],
   "source": [
    "from musicdl import musicdl\n",
    "\n",
    "config = {'logfilepath': 'musicdl.log', 'savedir': 'downloaded', 'search_size_per_source': 5, 'proxies': {}}\n",
    "target_srcs = [\n",
    "    'baiduFlac', 'kugou', 'kuwo', 'qq', 'qianqian',\n",
    "\t'netease', 'migu', 'xiami', 'joox', 'yiting',\n",
    "]\n",
    "client = musicdl.musicdl(config=config)\n",
    "search_results = client.search('说好不哭', target_srcs)"
   ],
   "metadata": {
    "collapsed": false,
    "pycharm": {
     "name": "#%%\n"
    }
   }
  },
  {
   "cell_type": "code",
   "execution_count": 15,
   "outputs": [
    {
     "ename": "TypeError",
     "evalue": "string indices must be integers",
     "output_type": "error",
     "traceback": [
      "\u001B[1;31m---------------------------------------------------------------------------\u001B[0m",
      "\u001B[1;31mTypeError\u001B[0m                                 Traceback (most recent call last)",
      "\u001B[1;32m<ipython-input-15-675ef785eaf1>\u001B[0m in \u001B[0;36m<module>\u001B[1;34m\u001B[0m\n\u001B[0;32m      1\u001B[0m \u001B[1;32mfor\u001B[0m \u001B[0msong\u001B[0m \u001B[1;32min\u001B[0m \u001B[0msearch_results\u001B[0m\u001B[1;33m[\u001B[0m\u001B[1;34m'migu'\u001B[0m\u001B[1;33m]\u001B[0m\u001B[1;33m:\u001B[0m\u001B[1;33m\u001B[0m\u001B[1;33m\u001B[0m\u001B[0m\n\u001B[0;32m      2\u001B[0m     \u001B[1;32mif\u001B[0m \u001B[0msong\u001B[0m\u001B[1;33m[\u001B[0m\u001B[1;34m'singers'\u001B[0m\u001B[1;33m]\u001B[0m\u001B[1;33m==\u001B[0m\u001B[1;34m'周杰伦'\u001B[0m\u001B[1;33m:\u001B[0m\u001B[1;33m\u001B[0m\u001B[1;33m\u001B[0m\u001B[0m\n\u001B[1;32m----> 3\u001B[1;33m         \u001B[0mclient\u001B[0m\u001B[1;33m.\u001B[0m\u001B[0mdownload\u001B[0m\u001B[1;33m(\u001B[0m\u001B[0mlist\u001B[0m\u001B[1;33m(\u001B[0m\u001B[0msong\u001B[0m\u001B[1;33m)\u001B[0m\u001B[1;33m)\u001B[0m\u001B[1;33m\u001B[0m\u001B[1;33m\u001B[0m\u001B[0m\n\u001B[0m\u001B[0;32m      4\u001B[0m \u001B[1;33m\u001B[0m\u001B[0m\n",
      "\u001B[1;32md:\\files\\codefield\\code_python\\projects\\pbibtex\\venv\\lib\\site-packages\\musicdl\\musicdl.py\u001B[0m in \u001B[0;36mdownload\u001B[1;34m(self, songinfos)\u001B[0m\n\u001B[0;32m     90\u001B[0m     \u001B[1;32mdef\u001B[0m \u001B[0mdownload\u001B[0m\u001B[1;33m(\u001B[0m\u001B[0mself\u001B[0m\u001B[1;33m,\u001B[0m \u001B[0msonginfos\u001B[0m\u001B[1;33m)\u001B[0m\u001B[1;33m:\u001B[0m\u001B[1;33m\u001B[0m\u001B[1;33m\u001B[0m\u001B[0m\n\u001B[0;32m     91\u001B[0m         \u001B[1;32mfor\u001B[0m \u001B[0msonginfo\u001B[0m \u001B[1;32min\u001B[0m \u001B[0msonginfos\u001B[0m\u001B[1;33m:\u001B[0m\u001B[1;33m\u001B[0m\u001B[1;33m\u001B[0m\u001B[0m\n\u001B[1;32m---> 92\u001B[1;33m             \u001B[0mgetattr\u001B[0m\u001B[1;33m(\u001B[0m\u001B[0mself\u001B[0m\u001B[1;33m,\u001B[0m \u001B[0msonginfo\u001B[0m\u001B[1;33m[\u001B[0m\u001B[1;34m'source'\u001B[0m\u001B[1;33m]\u001B[0m\u001B[1;33m)\u001B[0m\u001B[1;33m.\u001B[0m\u001B[0mdownload\u001B[0m\u001B[1;33m(\u001B[0m\u001B[1;33m[\u001B[0m\u001B[0msonginfo\u001B[0m\u001B[1;33m]\u001B[0m\u001B[1;33m)\u001B[0m\u001B[1;33m\u001B[0m\u001B[1;33m\u001B[0m\u001B[0m\n\u001B[0m\u001B[0;32m     93\u001B[0m     \u001B[1;34m'''初始化所有支持的搜索/下载源'''\u001B[0m\u001B[1;33m\u001B[0m\u001B[1;33m\u001B[0m\u001B[0m\n\u001B[0;32m     94\u001B[0m     \u001B[1;32mdef\u001B[0m \u001B[0minitializeAllSources\u001B[0m\u001B[1;33m(\u001B[0m\u001B[0mself\u001B[0m\u001B[1;33m)\u001B[0m\u001B[1;33m:\u001B[0m\u001B[1;33m\u001B[0m\u001B[1;33m\u001B[0m\u001B[0m\n",
      "\u001B[1;31mTypeError\u001B[0m: string indices must be integers"
     ]
    }
   ],
   "source": [
    "for song in search_results['migu']:\n",
    "    if song['singers']=='周杰伦':\n",
    "        client.download(list(song))"
   ],
   "metadata": {
    "collapsed": false,
    "pycharm": {
     "name": "#%%\n"
    }
   }
  },
  {
   "cell_type": "code",
   "execution_count": 14,
   "outputs": [
    {
     "data": {
      "text/plain": "{'source': 'migu',\n 'songid': '1118694834',\n 'singers': '周杰伦',\n 'album': '说好不哭',\n 'songname': '说好不哭 (With 五月天阿信)',\n 'savedir': 'downloaded',\n 'savename': 'migu_说好不哭 (With 五月天阿信)',\n 'download_url': 'https://app.pd.nf.migu.cn/MIGUM3.0/v1.0/content/sub/listenSong.do?channel=mx&copyrightId=6005479Z068&contentId=600907000009041435&toneFlag=SQ&resourceType=E&userId=15548614588710179085069&netType=00',\n 'lyric': '[00:01.00]歌曲名 说好不哭\\r\\n[00:02.00]歌手名 周杰伦\\r\\n[00:03.00]作词：方文山\\r\\n[00:04.00]作曲：周杰伦\\r\\n[00:26.82]没有了联络\\r\\n[00:28.31]后来的生活我都是听别人说\\r\\n[00:33.04]说你怎么了\\r\\n[00:34.54]说你怎么过放不下的人是我\\r\\n[00:39.38]人多的时候\\r\\n[00:40.82]就待在角落就怕别人问起我\\r\\n[00:45.74]你们怎么了\\r\\n[00:47.14]你低着头护着我连抱怨都没有\\r\\n[00:51.83]电话开始躲\\r\\n[00:53.37]从不对我说不习惯一个人生活\\r\\n[00:58.31]离开我以后\\r\\n[00:59.71]要我好好过怕打扰想自由的我\\r\\n[01:04.59]都这个时候\\r\\n[01:05.69]你还在意着\\r\\n[01:07.63]别人是怎么怎么看我的\\r\\n[01:10.93]拼命解释着\\r\\n[01:12.12]不是我的错是你要走\\r\\n[01:15.76]眼看着你难过挽留的话却没有说\\r\\n[01:28.47]你会微笑放手说好不哭让我走\\r\\n[01:55.14]电话开始躲\\r\\n[01:56.53]从不对我说不习惯一个人生活\\r\\n[02:01.42]离开我以后\\r\\n[02:02.82]要我好好过怕打扰想自由的我\\r\\n[02:07.84]都这个时候\\r\\n[02:09.03]你还在意着别人是怎么怎么看我的\\r\\n[02:13.82]拼命解释着不是我的错是你要走\\r\\n[02:18.76]眼看着你难过挽留的话却没有说\\r\\n[02:31.48]你会微笑放手说好不哭让我走\\r\\n[02:53.60]你什么都没有却还为我的梦加油\\r\\n[03:06.02]心疼过了多久还在找理由等我\\r\\n',\n 'filesize': '21.51MB',\n 'ext': 'flac',\n 'duration': '-:-:-'}"
     },
     "execution_count": 14,
     "metadata": {},
     "output_type": "execute_result"
    }
   ],
   "source": [
    "search_results['migu'][0]\n"
   ],
   "metadata": {
    "collapsed": false,
    "pycharm": {
     "name": "#%%\n"
    }
   }
  }
 ],
 "metadata": {
  "kernelspec": {
   "display_name": "Python 3",
   "language": "python",
   "name": "python3"
  },
  "language_info": {
   "codemirror_mode": {
    "name": "ipython",
    "version": 2
   },
   "file_extension": ".py",
   "mimetype": "text/x-python",
   "name": "python",
   "nbconvert_exporter": "python",
   "pygments_lexer": "ipython2",
   "version": "2.7.6"
  }
 },
 "nbformat": 4,
 "nbformat_minor": 0
}