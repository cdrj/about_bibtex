{
 "cells": [
  {
   "cell_type": "code",
   "execution_count": 1,
   "metadata": {
    "collapsed": true,
    "pycharm": {
     "name": "#%%\n"
    }
   },
   "outputs": [],
   "source": [
    "import json\n",
    "import requests\n",
    "\n",
    "r = requests.get('http://www.weather.com.cn/data/sk/101190402.html')\n",
    "r.encoding='utf-8'\n",
    "json_file=r.json()\n",
    "\n",
    "# weather=json_file['weatherinfo']\n",
    "# city=weather['city']\n",
    "# temp=weather['temp']\n",
    "# for _ in range(10):\n",
    "#     print(city,temp)\n"
   ]
  },
  {
   "cell_type": "code",
   "execution_count": 2,
   "outputs": [
    {
     "data": {
      "text/plain": "{'weatherinfo': {'city': '常熟',\n  'cityid': '101190402',\n  'temp': '22.5',\n  'WD': '东风',\n  'WS': '小于3级',\n  'SD': '87%',\n  'AP': '1005.1hPa',\n  'njd': '暂无实况',\n  'WSE': '<3',\n  'time': '18:00',\n  'sm': '2.2',\n  'isRadar': '0',\n  'Radar': ''}}"
     },
     "execution_count": 2,
     "metadata": {},
     "output_type": "execute_result"
    }
   ],
   "source": [
    "json_file"
   ],
   "metadata": {
    "collapsed": false,
    "pycharm": {
     "name": "#%%\n"
    }
   }
  },
  {
   "cell_type": "code",
   "execution_count": 2,
   "outputs": [
    {
     "name": "stdout",
     "output_type": "stream",
     "text": [
      "12度 阴 202102271640\n"
     ]
    }
   ],
   "source": [
    "import requests\n",
    "#id，城市名字，城市code，温度，湿度，time\n",
    "\n",
    "url=\"https://wis.qq.com/weather/common?source=pc&weather_type=observe%7Cforecast_1h%7Cforecast_24h%7Cindex%7Calarm%7Climit%7Ctips%7Crise&province=江苏&city=苏州&county=常熟\"\n",
    "r=requests.get(url)\n",
    "r.encoding='utf-8'\n",
    "weather_json=r.json()\n",
    "\n",
    "# for key, value in weather_json.items():\n",
    "#     print(\"\\nKey: \" + repr(key))\n",
    "#     print(\"Value: \" + repr(value))\n",
    "\n",
    "data=weather_json['data']['observe']\n",
    "\n",
    "city_name=\"常熟\"\n",
    "degree=data['degree']\n",
    "humidity=data['humidity']\n",
    "pressure=data['pressure']\n",
    "weather=data['weather']\n",
    "update_time=data['update_time']\n",
    "\n",
    "print(degree+\"度\",weather,update_time)"
   ],
   "metadata": {
    "collapsed": false,
    "pycharm": {
     "name": "#%%\n"
    }
   }
  },
  {
   "cell_type": "code",
   "execution_count": 6,
   "outputs": [],
   "source": [
    "from peewee import *\n",
    "from datetime import datetime\n",
    "\n",
    "db = MySQLDatabase('test',host ='127.0.0.1',user='root',passwd='123456',charset='utf8',port=3306,);\n",
    "\n",
    "class Weather(Model):\n",
    "    degree=IntegerField()\n",
    "    humidity=IntegerField()\n",
    "    pressure=IntegerField()\n",
    "    weather=CharField()\n",
    "    update_time = DateTimeField()\n",
    "    city_name=CharField()\n",
    "\n",
    "    class Meta:\n",
    "        database = db # This model uses the \"people.db\" database.\n",
    "# Weather.create_table()"
   ],
   "metadata": {
    "collapsed": false,
    "pycharm": {
     "name": "#%%\n"
    }
   }
  },
  {
   "cell_type": "code",
   "execution_count": 8,
   "outputs": [
    {
     "name": "stdout",
     "output_type": "stream",
     "text": [
      "2021-02-27 16:40:00\n"
     ]
    },
    {
     "data": {
      "text/plain": "1"
     },
     "execution_count": 8,
     "metadata": {},
     "output_type": "execute_result"
    }
   ],
   "source": [
    "time=datetime.strptime(update_time,\"%Y%m%d%H%M\")\n",
    "print(time)\n",
    "weather_today=Weather(degree=degree,city_name='常熟',humidity=humidity,pressure=pressure,weather=weather,update_time=time)\n",
    "weather_today.save()"
   ],
   "metadata": {
    "collapsed": false,
    "pycharm": {
     "name": "#%%\n"
    }
   }
  },
  {
   "cell_type": "code",
   "execution_count": 5,
   "outputs": [
    {
     "data": {
      "text/plain": "{'data': {'alarm': {},\n  'forecast_1h': {'0': {'degree': '10',\n    'update_time': '20210227170000',\n    'weather': '小雨',\n    'weather_code': '07',\n    'weather_short': '小雨',\n    'wind_direction': '东北风',\n    'wind_power': '4'},\n   '1': {'degree': '10',\n    'update_time': '20210227180000',\n    'weather': '小雨',\n    'weather_code': '07',\n    'weather_short': '小雨',\n    'wind_direction': '东北风',\n    'wind_power': '4'},\n   '10': {'degree': '9',\n    'update_time': '20210228030000',\n    'weather': '阴',\n    'weather_code': '02',\n    'weather_short': '阴',\n    'wind_direction': '东风',\n    'wind_power': '3'},\n   '11': {'degree': '9',\n    'update_time': '20210228040000',\n    'weather': '小雨',\n    'weather_code': '07',\n    'weather_short': '小雨',\n    'wind_direction': '东风',\n    'wind_power': '3'},\n   '12': {'degree': '9',\n    'update_time': '20210228050000',\n    'weather': '小雨',\n    'weather_code': '07',\n    'weather_short': '小雨',\n    'wind_direction': '东风',\n    'wind_power': '3'},\n   '13': {'degree': '9',\n    'update_time': '20210228060000',\n    'weather': '小雨',\n    'weather_code': '07',\n    'weather_short': '小雨',\n    'wind_direction': '东风',\n    'wind_power': '4'},\n   '14': {'degree': '9',\n    'update_time': '20210228070000',\n    'weather': '阴',\n    'weather_code': '02',\n    'weather_short': '阴',\n    'wind_direction': '东风',\n    'wind_power': '4'},\n   '15': {'degree': '10',\n    'update_time': '20210228080000',\n    'weather': '阴',\n    'weather_code': '02',\n    'weather_short': '阴',\n    'wind_direction': '东风',\n    'wind_power': '3'},\n   '16': {'degree': '11',\n    'update_time': '20210228090000',\n    'weather': '小雨',\n    'weather_code': '07',\n    'weather_short': '小雨',\n    'wind_direction': '东风',\n    'wind_power': '4'},\n   '17': {'degree': '12',\n    'update_time': '20210228100000',\n    'weather': '小雨',\n    'weather_code': '07',\n    'weather_short': '小雨',\n    'wind_direction': '东风',\n    'wind_power': '4'},\n   '18': {'degree': '12',\n    'update_time': '20210228110000',\n    'weather': '小雨',\n    'weather_code': '07',\n    'weather_short': '小雨',\n    'wind_direction': '东风',\n    'wind_power': '4'},\n   '19': {'degree': '13',\n    'update_time': '20210228120000',\n    'weather': '小雨',\n    'weather_code': '07',\n    'weather_short': '小雨',\n    'wind_direction': '东风',\n    'wind_power': '4'},\n   '2': {'degree': '9',\n    'update_time': '20210227190000',\n    'weather': '小雨',\n    'weather_code': '07',\n    'weather_short': '小雨',\n    'wind_direction': '东北风',\n    'wind_power': '4'},\n   '20': {'degree': '14',\n    'update_time': '20210228130000',\n    'weather': '小雨',\n    'weather_code': '07',\n    'weather_short': '小雨',\n    'wind_direction': '东风',\n    'wind_power': '3'},\n   '21': {'degree': '14',\n    'update_time': '20210228140000',\n    'weather': '小雨',\n    'weather_code': '07',\n    'weather_short': '小雨',\n    'wind_direction': '东风',\n    'wind_power': '4'},\n   '22': {'degree': '14',\n    'update_time': '20210228150000',\n    'weather': '小雨',\n    'weather_code': '07',\n    'weather_short': '小雨',\n    'wind_direction': '东风',\n    'wind_power': '4'},\n   '23': {'degree': '14',\n    'update_time': '20210228160000',\n    'weather': '小雨',\n    'weather_code': '07',\n    'weather_short': '小雨',\n    'wind_direction': '东风',\n    'wind_power': '4'},\n   '24': {'degree': '14',\n    'update_time': '20210228170000',\n    'weather': '小雨',\n    'weather_code': '07',\n    'weather_short': '小雨',\n    'wind_direction': '东风',\n    'wind_power': '4'},\n   '25': {'degree': '12',\n    'update_time': '20210228180000',\n    'weather': '小雨',\n    'weather_code': '07',\n    'weather_short': '小雨',\n    'wind_direction': '东风',\n    'wind_power': '4'},\n   '26': {'degree': '12',\n    'update_time': '20210228190000',\n    'weather': '小雨',\n    'weather_code': '07',\n    'weather_short': '小雨',\n    'wind_direction': '东风',\n    'wind_power': '4'},\n   '27': {'degree': '12',\n    'update_time': '20210228200000',\n    'weather': '小雨',\n    'weather_code': '07',\n    'weather_short': '小雨',\n    'wind_direction': '东风',\n    'wind_power': '4'},\n   '28': {'degree': '12',\n    'update_time': '20210228210000',\n    'weather': '阴',\n    'weather_code': '02',\n    'weather_short': '阴',\n    'wind_direction': '东风',\n    'wind_power': '4'},\n   '29': {'degree': '12',\n    'update_time': '20210228220000',\n    'weather': '阴',\n    'weather_code': '02',\n    'weather_short': '阴',\n    'wind_direction': '东风',\n    'wind_power': '4'},\n   '3': {'degree': '8',\n    'update_time': '20210227200000',\n    'weather': '小雨',\n    'weather_code': '07',\n    'weather_short': '小雨',\n    'wind_direction': '东北风',\n    'wind_power': '4'},\n   '30': {'degree': '12',\n    'update_time': '20210228230000',\n    'weather': '阴',\n    'weather_code': '02',\n    'weather_short': '阴',\n    'wind_direction': '东南风',\n    'wind_power': '4'},\n   '31': {'degree': '12',\n    'update_time': '20210301000000',\n    'weather': '阴',\n    'weather_code': '02',\n    'weather_short': '阴',\n    'wind_direction': '东南风',\n    'wind_power': '4'},\n   '32': {'degree': '12',\n    'update_time': '20210301010000',\n    'weather': '阴',\n    'weather_code': '02',\n    'weather_short': '阴',\n    'wind_direction': '东南风',\n    'wind_power': '3'},\n   '33': {'degree': '12',\n    'update_time': '20210301020000',\n    'weather': '阴',\n    'weather_code': '02',\n    'weather_short': '阴',\n    'wind_direction': '东南风',\n    'wind_power': '4'},\n   '34': {'degree': '12',\n    'update_time': '20210301030000',\n    'weather': '阴',\n    'weather_code': '02',\n    'weather_short': '阴',\n    'wind_direction': '东南风',\n    'wind_power': '4'},\n   '35': {'degree': '12',\n    'update_time': '20210301040000',\n    'weather': '阴',\n    'weather_code': '02',\n    'weather_short': '阴',\n    'wind_direction': '东南风',\n    'wind_power': '4'},\n   '36': {'degree': '12',\n    'update_time': '20210301050000',\n    'weather': '阴',\n    'weather_code': '02',\n    'weather_short': '阴',\n    'wind_direction': '东南风',\n    'wind_power': '3'},\n   '37': {'degree': '12',\n    'update_time': '20210301060000',\n    'weather': '小雨',\n    'weather_code': '07',\n    'weather_short': '小雨',\n    'wind_direction': '南风',\n    'wind_power': '4'},\n   '38': {'degree': '12',\n    'update_time': '20210301070000',\n    'weather': '小雨',\n    'weather_code': '07',\n    'weather_short': '小雨',\n    'wind_direction': '南风',\n    'wind_power': '3'},\n   '39': {'degree': '13',\n    'update_time': '20210301080000',\n    'weather': '小雨',\n    'weather_code': '07',\n    'weather_short': '小雨',\n    'wind_direction': '东南风',\n    'wind_power': '3'},\n   '4': {'degree': '8',\n    'update_time': '20210227210000',\n    'weather': '小雨',\n    'weather_code': '07',\n    'weather_short': '小雨',\n    'wind_direction': '东北风',\n    'wind_power': '4'},\n   '40': {'degree': '14',\n    'update_time': '20210301090000',\n    'weather': '阴',\n    'weather_code': '02',\n    'weather_short': '阴',\n    'wind_direction': '南风',\n    'wind_power': '3'},\n   '41': {'degree': '15',\n    'update_time': '20210301100000',\n    'weather': '小雨',\n    'weather_code': '07',\n    'weather_short': '小雨',\n    'wind_direction': '西风',\n    'wind_power': '4'},\n   '42': {'degree': '15',\n    'update_time': '20210301110000',\n    'weather': '小雨',\n    'weather_code': '07',\n    'weather_short': '小雨',\n    'wind_direction': '西北风',\n    'wind_power': '3'},\n   '43': {'degree': '16',\n    'update_time': '20210301120000',\n    'weather': '小雨',\n    'weather_code': '07',\n    'weather_short': '小雨',\n    'wind_direction': '西风',\n    'wind_power': '3'},\n   '44': {'degree': '16',\n    'update_time': '20210301130000',\n    'weather': '小雨',\n    'weather_code': '07',\n    'weather_short': '小雨',\n    'wind_direction': '西风',\n    'wind_power': '3'},\n   '45': {'degree': '16',\n    'update_time': '20210301140000',\n    'weather': '小雨',\n    'weather_code': '07',\n    'weather_short': '小雨',\n    'wind_direction': '西北风',\n    'wind_power': '3'},\n   '46': {'degree': '15',\n    'update_time': '20210301150000',\n    'weather': '阴',\n    'weather_code': '02',\n    'weather_short': '阴',\n    'wind_direction': '西北风',\n    'wind_power': '3'},\n   '47': {'degree': '14',\n    'update_time': '20210301160000',\n    'weather': '阴',\n    'weather_code': '02',\n    'weather_short': '阴',\n    'wind_direction': '西北风',\n    'wind_power': '4'},\n   '5': {'degree': '8',\n    'update_time': '20210227220000',\n    'weather': '小雨',\n    'weather_code': '07',\n    'weather_short': '小雨',\n    'wind_direction': '东风',\n    'wind_power': '4'},\n   '6': {'degree': '9',\n    'update_time': '20210227230000',\n    'weather': '阴',\n    'weather_code': '02',\n    'weather_short': '阴',\n    'wind_direction': '东风',\n    'wind_power': '4'},\n   '7': {'degree': '9',\n    'update_time': '20210228000000',\n    'weather': '小雨',\n    'weather_code': '07',\n    'weather_short': '小雨',\n    'wind_direction': '东风',\n    'wind_power': '4'},\n   '8': {'degree': '9',\n    'update_time': '20210228010000',\n    'weather': '小雨',\n    'weather_code': '07',\n    'weather_short': '小雨',\n    'wind_direction': '东风',\n    'wind_power': '4'},\n   '9': {'degree': '9',\n    'update_time': '20210228020000',\n    'weather': '小雨',\n    'weather_code': '07',\n    'weather_short': '小雨',\n    'wind_direction': '东风',\n    'wind_power': '4'}},\n  'forecast_24h': {'0': {'day_weather': '中雨',\n    'day_weather_code': '08',\n    'day_weather_short': '中雨',\n    'day_wind_direction': '北风',\n    'day_wind_direction_code': '8',\n    'day_wind_power': '4',\n    'day_wind_power_code': '1',\n    'max_degree': '8',\n    'min_degree': '8',\n    'night_weather': '小雨',\n    'night_weather_code': '07',\n    'night_weather_short': '小雨',\n    'night_wind_direction': '东北风',\n    'night_wind_direction_code': '1',\n    'night_wind_power': '5',\n    'night_wind_power_code': '2',\n    'time': '2021-02-26'},\n   '1': {'day_weather': '小雨',\n    'day_weather_code': '07',\n    'day_weather_short': '小雨',\n    'day_wind_direction': '东北风',\n    'day_wind_direction_code': '1',\n    'day_wind_power': '4',\n    'day_wind_power_code': '1',\n    'max_degree': '12',\n    'min_degree': '8',\n    'night_weather': '小雨',\n    'night_weather_code': '07',\n    'night_weather_short': '小雨',\n    'night_wind_direction': '东风',\n    'night_wind_direction_code': '2',\n    'night_wind_power': '4',\n    'night_wind_power_code': '1',\n    'time': '2021-02-27'},\n   '2': {'day_weather': '小雨',\n    'day_weather_code': '07',\n    'day_weather_short': '小雨',\n    'day_wind_direction': '东风',\n    'day_wind_direction_code': '2',\n    'day_wind_power': '4',\n    'day_wind_power_code': '1',\n    'max_degree': '15',\n    'min_degree': '10',\n    'night_weather': '小雨',\n    'night_weather_code': '07',\n    'night_weather_short': '小雨',\n    'night_wind_direction': '东南风',\n    'night_wind_direction_code': '3',\n    'night_wind_power': '4',\n    'night_wind_power_code': '1',\n    'time': '2021-02-28'},\n   '3': {'day_weather': '小雨',\n    'day_weather_code': '07',\n    'day_weather_short': '小雨',\n    'day_wind_direction': '西北风',\n    'day_wind_direction_code': '7',\n    'day_wind_power': '5',\n    'day_wind_power_code': '2',\n    'max_degree': '16',\n    'min_degree': '6',\n    'night_weather': '小雨',\n    'night_weather_code': '07',\n    'night_weather_short': '小雨',\n    'night_wind_direction': '北风',\n    'night_wind_direction_code': '8',\n    'night_wind_power': '5',\n    'night_wind_power_code': '2',\n    'time': '2021-03-01'},\n   '4': {'day_weather': '多云',\n    'day_weather_code': '01',\n    'day_weather_short': '多云',\n    'day_wind_direction': '东北风',\n    'day_wind_direction_code': '1',\n    'day_wind_power': '4',\n    'day_wind_power_code': '1',\n    'max_degree': '10',\n    'min_degree': '5',\n    'night_weather': '多云',\n    'night_weather_code': '01',\n    'night_weather_short': '多云',\n    'night_wind_direction': '东风',\n    'night_wind_direction_code': '2',\n    'night_wind_power': '4',\n    'night_wind_power_code': '1',\n    'time': '2021-03-02'},\n   '5': {'day_weather': '多云',\n    'day_weather_code': '01',\n    'day_weather_short': '多云',\n    'day_wind_direction': '东风',\n    'day_wind_direction_code': '2',\n    'day_wind_power': '4',\n    'day_wind_power_code': '1',\n    'max_degree': '13',\n    'min_degree': '9',\n    'night_weather': '小雨',\n    'night_weather_code': '07',\n    'night_weather_short': '小雨',\n    'night_wind_direction': '东南风',\n    'night_wind_direction_code': '3',\n    'night_wind_power': '4',\n    'night_wind_power_code': '1',\n    'time': '2021-03-03'},\n   '6': {'day_weather': '小雨',\n    'day_weather_code': '07',\n    'day_weather_short': '小雨',\n    'day_wind_direction': '南风',\n    'day_wind_direction_code': '4',\n    'day_wind_power': '4',\n    'day_wind_power_code': '1',\n    'max_degree': '12',\n    'min_degree': '7',\n    'night_weather': '多云',\n    'night_weather_code': '01',\n    'night_weather_short': '多云',\n    'night_wind_direction': '东风',\n    'night_wind_direction_code': '2',\n    'night_wind_power': '4',\n    'night_wind_power_code': '1',\n    'time': '2021-03-04'},\n   '7': {'day_weather': '小雨',\n    'day_weather_code': '07',\n    'day_weather_short': '小雨',\n    'day_wind_direction': '东风',\n    'day_wind_direction_code': '2',\n    'day_wind_power': '4',\n    'day_wind_power_code': '1',\n    'max_degree': '15',\n    'min_degree': '10',\n    'night_weather': '小雨',\n    'night_weather_code': '07',\n    'night_weather_short': '小雨',\n    'night_wind_direction': '东北风',\n    'night_wind_direction_code': '1',\n    'night_wind_power': '4',\n    'night_wind_power_code': '1',\n    'time': '2021-03-05'}},\n  'index': {'airconditioner': {'detail': '您将感到很舒适，一般不需要开启空调。',\n    'info': '较少开启',\n    'name': '空调开启'},\n   'allergy': {'detail': '天气条件极不易诱发过敏，有降水，出行注意携带雨具。',\n    'info': '极不易发',\n    'name': '过敏'},\n   'carwash': {'detail': '不宜洗车，未来24小时内有雨，如果在此期间洗车，雨水和路上的泥水可能会再次弄脏您的爱车。',\n    'info': '不宜',\n    'name': '洗车'},\n   'chill': {'detail': '感觉有点凉，室外活动注意适当增减衣物。', 'info': '凉', 'name': '风寒'},\n   'clothes': {'detail': '天气冷，建议着棉服、羽绒服、皮夹克加羊毛衫等冬季服装。年老体弱者宜着厚棉衣、冬大衣或厚羽绒服。',\n    'info': '冷',\n    'name': '穿衣'},\n   'cold': {'detail': '天气转凉，空气湿度较大，较易发生感冒，体质较弱的朋友请注意适当防护。',\n    'info': '较易发',\n    'name': '感冒'},\n   'comfort': {'detail': '白天会有降雨发生，且天气较凉，您会感觉偏冷，不很舒适，请注意添加衣物。',\n    'info': '较不舒适',\n    'name': '舒适度'},\n   'diffusion': {'detail': '气象条件有利于空气污染物稀释、扩散和清除。',\n    'info': '良',\n    'name': '空气污染扩散条件'},\n   'dry': {'detail': '有降水，路面潮湿，车辆易打滑，请小心驾驶。', 'info': '潮湿', 'name': '路况'},\n   'drying': {'detail': '有降水，不适宜晾晒。若需要晾晒，请在室内准备出充足的空间。',\n    'info': '不宜',\n    'name': '晾晒'},\n   'fish': {'detail': '天气不好，有风，不适合垂钓。', 'info': '不宜', 'name': '钓鱼'},\n   'heatstroke': {'detail': '天气舒适，对易中暑人群来说非常友善。',\n    'info': '无中暑风险',\n    'name': '中暑'},\n   'makeup': {'detail': '皮肤易缺水，用润唇膏后再抹口红，用保湿型霜类化妆品。',\n    'info': '保湿',\n    'name': '化妆'},\n   'mood': {'detail': '有降水，雨水可能会使心绪无端地挂上轻愁，与其因下雨而无精打采，不如放松心情，好好欣赏一下雨景。你会发现雨中的世界是那般洁净温和、清新葱郁。',\n    'info': '较差',\n    'name': '心情'},\n   'morning': {'detail': '有较强降水，风力稍大，请避免户外晨练，建议在室内做适当锻炼，保持身体健康。',\n    'info': '不宜',\n    'name': '晨练'},\n   'sports': {'detail': '有降水，且风力较强，较适宜在户内进行各种健身休闲运动；若坚持户外运动，请注意保暖。',\n    'info': '较不宜',\n    'name': '运动'},\n   'sunglasses': {'detail': '白天有降水天气，视线较差，不需要佩戴太阳镜',\n    'info': '不需要',\n    'name': '太阳镜'},\n   'sunscreen': {'detail': '属弱紫外辐射天气，长期在户外，建议涂擦SPF在8-12之间的防晒护肤品。',\n    'info': '弱',\n    'name': '防晒'},\n   'time': '20210227',\n   'tourism': {'detail': '有降水，虽然风稍大，但温度适宜，适宜旅游，可不要错过机会呦！',\n    'info': '适宜',\n    'name': '旅游'},\n   'traffic': {'detail': '有降水，路面湿滑，刹车距离延长，事故易发期，注意车距，务必小心驾驶。',\n    'info': '一般',\n    'name': '交通'},\n   'ultraviolet': {'detail': '属弱紫外线辐射天气，无需特别防护。若长期在户外，建议涂擦SPF在8-12之间的防晒护肤品。',\n    'info': '最弱',\n    'name': '紫外线强度'},\n   'umbrella': {'detail': '有降水，请带上雨伞，如果你喜欢雨中漫步，享受大自然给予的温馨和快乐，在短时间外出可收起雨伞。',\n    'info': '带伞',\n    'name': '雨伞'}},\n  'limit': {'tail_number': '', 'time': ''},\n  'observe': {'degree': '12',\n   'humidity': '81',\n   'precipitation': '0',\n   'pressure': '1021',\n   'update_time': '202102271640',\n   'weather': '阴',\n   'weather_code': '02',\n   'weather_short': '阴',\n   'wind_direction': '1',\n   'wind_power': '2'},\n  'rise': {'0': {'sunrise': '06:26', 'sunset': '17:53', 'time': '20210227'},\n   '1': {'sunrise': '06:25', 'sunset': '17:53', 'time': '20210228'},\n   '10': {'sunrise': '06:14', 'sunset': '18:00', 'time': '20210309'},\n   '11': {'sunrise': '06:13', 'sunset': '18:01', 'time': '20210310'},\n   '12': {'sunrise': '06:12', 'sunset': '18:02', 'time': '20210311'},\n   '13': {'sunrise': '06:10', 'sunset': '18:02', 'time': '20210312'},\n   '14': {'sunrise': '06:09', 'sunset': '18:03', 'time': '20210313'},\n   '2': {'sunrise': '06:23', 'sunset': '17:54', 'time': '20210301'},\n   '3': {'sunrise': '06:22', 'sunset': '17:55', 'time': '20210302'},\n   '4': {'sunrise': '06:21', 'sunset': '17:56', 'time': '20210303'},\n   '5': {'sunrise': '06:20', 'sunset': '17:56', 'time': '20210304'},\n   '6': {'sunrise': '06:19', 'sunset': '17:57', 'time': '20210305'},\n   '7': {'sunrise': '06:18', 'sunset': '17:58', 'time': '20210306'},\n   '8': {'sunrise': '06:16', 'sunset': '17:59', 'time': '20210307'},\n   '9': {'sunrise': '06:15', 'sunset': '17:59', 'time': '20210308'}},\n  'tips': {'observe': {'0': '天暗下来，你就是阳光~', '1': '现在的温度比较凉爽~'}}},\n 'message': 'OK',\n 'status': 200}"
     },
     "execution_count": 5,
     "metadata": {},
     "output_type": "execute_result"
    }
   ],
   "source": [
    "weather_json"
   ],
   "metadata": {
    "collapsed": false,
    "pycharm": {
     "name": "#%%\n"
    }
   }
  }
 ],
 "metadata": {
  "kernelspec": {
   "display_name": "Python 3",
   "language": "python",
   "name": "python3"
  },
  "language_info": {
   "codemirror_mode": {
    "name": "ipython",
    "version": 2
   },
   "file_extension": ".py",
   "mimetype": "text/x-python",
   "name": "python",
   "nbconvert_exporter": "python",
   "pygments_lexer": "ipython2",
   "version": "2.7.6"
  }
 },
 "nbformat": 4,
 "nbformat_minor": 0
}